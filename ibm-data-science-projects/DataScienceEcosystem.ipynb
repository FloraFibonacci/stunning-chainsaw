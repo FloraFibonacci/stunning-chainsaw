{
 "cells": [
  {
   "cell_type": "markdown",
   "id": "10a55547-dd41-4881-9ab8-f5547b4d44ce",
   "metadata": {},
   "source": [
    "# Data Science Tools and Ecosystem"
   ]
  },
  {
   "cell_type": "markdown",
   "id": "5c875b2c-5725-4811-9279-645304adaafd",
   "metadata": {},
   "source": [
    "Neste notebook, as Ferramentas e Ecossistema de Ciência de Dados são resumidos."
   ]
  },
  {
   "cell_type": "markdown",
   "id": "8aa25a6e-ef38-4a57-a722-a32003b11a31",
   "metadata": {},
   "source": [
    "__Objetivos:__\n",
    "\n",
    "* Listar linguagens populares para Ciência de Dados\n",
    "* Enumerar as bibliotecas comumente usadas\n",
    "* Listar ferrramentas de manipulação de dados\n",
    "* Executar operações numéricas"
   ]
  },
  {
   "cell_type": "markdown",
   "id": "1b9a7546-a733-4c51-8a45-c2ce28fbba74",
   "metadata": {},
   "source": [
    "Algumas das linguagens populares que os Cientistas de Dados usam são:\n",
    "\n",
    "1. R language\n",
    "2. Python\n",
    "3. SQL\n",
    "4. Julia"
   ]
  },
  {
   "cell_type": "markdown",
   "id": "a140bc5d-bd61-4d5e-ab22-eea3ed92e735",
   "metadata": {},
   "source": [
    "Algumas das bibliotecas comumente usadas por Cientistas de Dados incluem:\n",
    "\n",
    "1. NumPy\n",
    "2. Pandas\n",
    "3. MatplotLib\n",
    "4. Scikit-learn"
   ]
  },
  {
   "cell_type": "markdown",
   "id": "6c8a2518-2f87-480e-bd1a-aed0049b22fc",
   "metadata": {},
   "source": [
    "| Ferramentas de Ciência de Dados |\n",
    "| ------------------------------- |\n",
    "| Jupyter |\n",
    "| R |\n",
    "| Git |"
   ]
  },
  {
   "cell_type": "markdown",
   "id": "2aab4a4b-b039-4d22-b0fd-f89aafbdea73",
   "metadata": {},
   "source": [
    "### Exemplos aritméticos\n",
    "\n",
    "Abaixo estão alguns exemplos de avaliação de expressões aritméticas em Python\n",
    "\n",
    "1+1  \n",
    "2*8  \n",
    "4-1  "
   ]
  },
  {
   "cell_type": "code",
   "execution_count": 26,
   "id": "10836212-1d87-426a-a20c-6f2477f86fd5",
   "metadata": {},
   "outputs": [
    {
     "name": "stdout",
     "output_type": "stream",
     "text": [
      "2\n",
      "16\n",
      "3\n"
     ]
    }
   ],
   "source": [
    "print(1+1)\n",
    "print(2*8)\n",
    "print(4-1)"
   ]
  },
  {
   "cell_type": "code",
   "execution_count": 32,
   "id": "878c2759-b6e4-4031-998f-add57fe155e8",
   "metadata": {},
   "outputs": [
    {
     "data": {
      "text/plain": [
       "17"
      ]
     },
     "execution_count": 32,
     "metadata": {},
     "output_type": "execute_result"
    }
   ],
   "source": [
    "# Esta é uma expressão aritmética simples para multiplicar e depois adicionar inteiros\n",
    "(3*4)+5"
   ]
  },
  {
   "cell_type": "code",
   "execution_count": 34,
   "id": "bd235c36-21c3-4a15-93a7-12a70cf28da9",
   "metadata": {},
   "outputs": [
    {
     "name": "stdout",
     "output_type": "stream",
     "text": [
      "3.3333333333333335\n"
     ]
    }
   ],
   "source": [
    "# Isso converterá 200 minutos em horas dividindo por 60\n",
    "\n",
    "200/60\n",
    "print(200/60)"
   ]
  },
  {
   "cell_type": "markdown",
   "id": "a4cba4dd-59ed-48d2-8ede-aa769c742b73",
   "metadata": {},
   "source": [
    "## Autor\n",
    "Luca"
   ]
  },
  {
   "cell_type": "code",
   "execution_count": null,
   "id": "a64badc4-2167-43f2-af35-47a31694085b",
   "metadata": {},
   "outputs": [],
   "source": []
  }
 ],
 "metadata": {
  "kernelspec": {
   "display_name": "Python [conda env:base] *",
   "language": "python",
   "name": "conda-base-py"
  },
  "language_info": {
   "codemirror_mode": {
    "name": "ipython",
    "version": 3
   },
   "file_extension": ".py",
   "mimetype": "text/x-python",
   "name": "python",
   "nbconvert_exporter": "python",
   "pygments_lexer": "ipython3",
   "version": "3.12.7"
  }
 },
 "nbformat": 4,
 "nbformat_minor": 5
}
